{
  "nbformat": 4,
  "nbformat_minor": 0,
  "metadata": {
    "colab": {
      "provenance": [],
      "toc_visible": true
    },
    "kernelspec": {
      "name": "ir",
      "display_name": "R"
    },
    "language_info": {
      "name": "R"
    }
  },
  "cells": [
    {
      "cell_type": "markdown",
      "source": [
        "# Pizza Restaurant Chatbot\n",
        "- Show menu\n",
        "- Take an order\n",
        "- Check bill"
      ],
      "metadata": {
        "id": "YCvuz9gw9jF2"
      }
    },
    {
      "cell_type": "code",
      "execution_count": null,
      "metadata": {
        "id": "FMcSYE4lNV4X"
      },
      "outputs": [],
      "source": [
        "library(tidyverse)\n",
        "library(glue)\n",
        "\n",
        "options(digits = 2)\n",
        "\n",
        "pizza_name = c(\"Margherita\", \"Pepperoni\", \"Hawaiian\", \"Veggie\", \"Meat Lovers\")\n",
        "\n",
        "pizza_price = c(8.99, 11.99, 13.99, 10.99, 14.99)\n",
        "\n",
        "pizza_menu = tibble(name = pizza_name,\n",
        "                   price = pizza_price)\n",
        "\n",
        "drink_name = c(\"Cola\", \"Sprite\", \"Orange Juice\", \"Water\", \"Iced Tea\")\n",
        "\n",
        "drink_price = c(1.50, 1.50, 2.00, 1.00, 1.75)\n",
        "\n",
        "drink_menu = tibble(name = drink_name,\n",
        "                 price = drink_price)\n",
        "\n",
        "order_pizza_df <- tibble()\n",
        "order_drink_df <- tibble()\n",
        "\n",
        "pizza <- function(order_pizza = order_pizza_df, order_drink = order_drink_df) {\n",
        "  print(\"Hi there! Welcome to our restaurant. How can I help you today?\")\n",
        "\n",
        "  print(\"1. Show Menu 2. Make an Order 3. Get the Bill\")\n",
        "  flush.console()\n",
        "  choice <- readline(\"Enter you choice: \")\n",
        "\n",
        "  if (choice == 1) {\n",
        "    # Show Menu\n",
        "    print(\"Sure! Here's our menu\")\n",
        "\n",
        "    print(\"--Pizza--\")\n",
        "    for (i in 1:nrow(pizza_menu)) {\n",
        "      current <- pizza_menu[i,]\n",
        "      price_2 <- sprintf(\"%.2f\", current$price)\n",
        "      print(glue(\"Pizza name: {current$name}, Price: {price_2}\"))\n",
        "    }\n",
        "\n",
        "    print(\"--Drinks--\")\n",
        "    for (i in 1:nrow(drink_menu)) {\n",
        "      current <- drink_menu[i,]\n",
        "      price_2 <- sprintf(\"%.2f\", current$price)\n",
        "      print(glue(\"Drink: {current$name}, Price: {price_2}\"))\n",
        "    }\n",
        "\n",
        "  } else if (choice == 2) {\n",
        "    # Make an Order\n",
        "    print(\"Alright.\")\n",
        "\n",
        "    finished <- FALSE\n",
        "    while(!finished) {\n",
        "      flush.console()\n",
        "      pizza_order <- readline(\"Pizza: \")\n",
        "      if (!(pizza_order %in% pizza_menu$name)) {\n",
        "        print(\"Sorry, but we don't have that menu. We have Margherita, Pepperoni, Hawaiian, Veggie, and Meat Lovers\")\n",
        "        next\n",
        "      }\n",
        "      flush.console()\n",
        "      pizza_amount <- floor(as.numeric(readline(\"Amount: \")))\n",
        "      if (pizza_amount <= 0) {\n",
        "        print(\"Please enter the valid amount.\")\n",
        "        next\n",
        "      }\n",
        "\n",
        "      # if order_pizza is blank, create data frame using tibble\n",
        "      if (dim(order_pizza)[1] == 0) {\n",
        "        order_pizza <- tibble(menu = pizza_order,\n",
        "                              amount = pizza_amount)\n",
        "      } else {\n",
        "        order_pizza <- order_pizza %>%\n",
        "          add_row(menu = pizza_order,\n",
        "                  amount = pizza_amount)\n",
        "      }\n",
        "      flush.console()\n",
        "      finished <- ifelse(tolower(readline(\"Would you like to add any pizza? y/n: \")) == \"y\", FALSE, TRUE)\n",
        "    }\n",
        "\n",
        "    print(\"What drinks can I get for you?\")\n",
        "    finished <- FALSE\n",
        "    while(!finished) {\n",
        "      flush.console()\n",
        "      drink_order <- readline(\"Drinks: \")\n",
        "      if (!(pizza_order %in% pizza_menu$name)) {\n",
        "        print(\"Sorry, but we don't have that drink. We have Cola, Sprite, Orange Juice, Water, and Iced Tea\")\n",
        "        next\n",
        "      }\n",
        "      flush.console()\n",
        "      drink_amount <- floor(as.numeric(readline(\"Amount: \")))\n",
        "      if (drink_amount <= 0) {\n",
        "        print(\"Please enter the valid amount.\")\n",
        "        next\n",
        "      }\n",
        "\n",
        "      # if order_drink is blank, create data frame using tibble\n",
        "      if (dim(order_drink)[1] == 0) {\n",
        "        order_drink <- tibble(menu = drink_order,\n",
        "                              amount = drink_amount)\n",
        "      } else {\n",
        "      order_drink <- order_drink %>%\n",
        "        add_row(menu = drink_order,\n",
        "                amount = drink_amount)\n",
        "      }\n",
        "      flush.console()\n",
        "      finished <- ifelse(tolower(readline(\"Would you like to add any drink? y/n: \")) == \"y\", FALSE, TRUE)\n",
        "    }\n",
        "\n",
        "    print(\"Your meal will be ready shortly.\")\n",
        "\n",
        "  } else if (choice == 3){\n",
        "    # Get the Bill\n",
        "    joined_pizza <- order_pizza %>%\n",
        "      left_join(pizza_menu, by = c(\"menu\"=\"name\")) %>%\n",
        "      mutate(total = amount * price)\n",
        "    joined_drink <- order_drink %>%\n",
        "      left_join(drink_menu, by = c(\"menu\"=\"name\")) %>%\n",
        "      mutate(total = amount * price)\n",
        "\n",
        "    print(\"Your Order:\")\n",
        "    for (i in 1:nrow(joined_pizza)){\n",
        "      current <- joined_pizza[i,]\n",
        "      price_2 <- sprintf(\"%.2f\", current$price)\n",
        "      total_2 <- sprintf(\"%.2f\", current$total)\n",
        "      print(glue(\"{current$menu} ({price_2}) x {current$amount} -> {total_2}\"))\n",
        "    }\n",
        "    for (i in 1:nrow(joined_drink)){\n",
        "      current <- joined_drink[i,]\n",
        "      price_2 <- sprintf(\"%.2f\", current$price)\n",
        "      total_2 <- sprintf(\"%.2f\", current$total)\n",
        "      print(glue(\"{current$menu} ({price_2}) x {current$amount} -> {total_2}\"))\n",
        "    }\n",
        "    total <- sum(joined_pizza$total, na.rm = TRUE) + sum(joined_drink$total, na.rm = TRUE)\n",
        "    print(glue(\"Total: ${total}\"))\n",
        "\n",
        "    print(\"Thank you!\")\n",
        "\n",
        "    # clear order_pizza and order_drink\n",
        "    order_pizza <- tibble()\n",
        "    order_drink <- tibble()\n",
        "  }\n",
        "  results_list <- list(order_pizza = order_pizza, order_drink = order_drink)\n",
        "  return(results_list)\n",
        "}\n",
        "\n",
        "# run this line\n",
        "# result <- pizza(); order_pizza_df <- result$order_pizza; order_drink_df <- result$order_drink"
      ]
    },
    {
      "cell_type": "code",
      "source": [
        "result <- pizza(); order_pizza_df <- result$order_pizza; order_drink_df <- result$order_drink"
      ],
      "metadata": {
        "colab": {
          "base_uri": "https://localhost:8080/"
        },
        "id": "P32gp4UsNnwZ",
        "outputId": "8638a17c-e9a3-45c8-fc9e-858d6d4c717d"
      },
      "execution_count": null,
      "outputs": [
        {
          "output_type": "stream",
          "name": "stdout",
          "text": [
            "[1] \"Hi there! Welcome to our restaurant. How can I help you today?\"\n",
            "[1] \"1. Show Menu 2. Make an Order 3. Get the Bill\"\n",
            "Enter you choice: 1\n",
            "[1] \"Sure! Here's our menu\"\n",
            "[1] \"--Pizza--\"\n",
            "Pizza name: Margherita, Price: 8.99\n",
            "Pizza name: Pepperoni, Price: 11.99\n",
            "Pizza name: Hawaiian, Price: 13.99\n",
            "Pizza name: Veggie, Price: 10.99\n",
            "Pizza name: Meat Lovers, Price: 14.99\n",
            "[1] \"--Drinks--\"\n",
            "Drink: Cola, Price: 1.50\n",
            "Drink: Sprite, Price: 1.50\n",
            "Drink: Orange Juice, Price: 2.00\n",
            "Drink: Water, Price: 1.00\n",
            "Drink: Iced Tea, Price: 1.75\n"
          ]
        }
      ]
    },
    {
      "cell_type": "code",
      "source": [
        "result <- pizza(); order_pizza_df <- result$order_pizza; order_drink_df <- result$order_drink"
      ],
      "metadata": {
        "colab": {
          "base_uri": "https://localhost:8080/"
        },
        "id": "cMXlj0CjP7XY",
        "outputId": "21b2ef98-dd78-4851-fb0f-8fa891f441f4"
      },
      "execution_count": null,
      "outputs": [
        {
          "output_type": "stream",
          "name": "stdout",
          "text": [
            "[1] \"Hi there! Welcome to our restaurant. How can I help you today?\"\n",
            "[1] \"1. Show Menu 2. Make an Order 3. Get the Bill\"\n",
            "Enter you choice: 2\n",
            "[1] \"Alright.\"\n",
            "Pizza: Margharita\n",
            "[1] \"Sorry, but we don't have that menu. We have Margherita, Pepperoni, Hawaiian, Veggie, and Meat Lovers\"\n",
            "Pizza: Margherita\n",
            "Amount: 2\n",
            "Would you like to add any pizza? y/n: y\n",
            "Pizza: Hawaiian\n",
            "Amount: 1\n",
            "Would you like to add any pizza? y/n: n\n",
            "[1] \"What drinks can I get for you?\"\n",
            "Drinks: Cola\n",
            "Amount: 2\n",
            "Would you like to add any drink? y/n: n\n",
            "[1] \"Your meal will be ready shortly.\"\n"
          ]
        }
      ]
    },
    {
      "cell_type": "code",
      "source": [
        "result <- pizza(); order_pizza_df <- result$order_pizza; order_drink_df <- result$order_drink"
      ],
      "metadata": {
        "colab": {
          "base_uri": "https://localhost:8080/"
        },
        "id": "D4_tpBPbQYX0",
        "outputId": "b554ae70-52de-4c06-f18c-47b1264a5ff1"
      },
      "execution_count": null,
      "outputs": [
        {
          "output_type": "stream",
          "name": "stdout",
          "text": [
            "[1] \"Hi there! Welcome to our restaurant. How can I help you today?\"\n",
            "[1] \"1. Show Menu 2. Make an Order 3. Get the Bill\"\n",
            "Enter you choice: 2\n",
            "[1] \"Alright.\"\n",
            "Pizza: Meat Lovers\n",
            "Amount: 1\n",
            "Would you like to add any pizza? y/n: n\n",
            "[1] \"What drinks can I get for you?\"\n",
            "Drinks: Water\n",
            "Amount: 2\n",
            "Would you like to add any drink? y/n: n\n",
            "[1] \"Your meal will be ready shortly.\"\n"
          ]
        }
      ]
    },
    {
      "cell_type": "code",
      "source": [
        "result <- pizza(); order_pizza_df <- result$order_pizza; order_drink_df <- result$order_drink"
      ],
      "metadata": {
        "colab": {
          "base_uri": "https://localhost:8080/"
        },
        "id": "Zt5LAAZNQgdY",
        "outputId": "ca0d5f7d-705e-4bd4-c3ac-7005280eb797"
      },
      "execution_count": null,
      "outputs": [
        {
          "output_type": "stream",
          "name": "stdout",
          "text": [
            "[1] \"Hi there! Welcome to our restaurant. How can I help you today?\"\n",
            "[1] \"1. Show Menu 2. Make an Order 3. Get the Bill\"\n",
            "Enter you choice: 3\n",
            "[1] \"Your Order:\"\n",
            "Margherita (8.99) x 2 -> 17.98\n",
            "Hawaiian (13.99) x 1 -> 13.99\n",
            "Meat Lovers (14.99) x 1 -> 14.99\n",
            "Cola (1.50) x 2 -> 3.00\n",
            "Water (1.00) x 2 -> 2.00\n",
            "Total: $51.96\n",
            "[1] \"Thank you!\"\n"
          ]
        }
      ]
    },
    {
      "cell_type": "markdown",
      "source": [
        "# Rock-Paper-Scissors Game\n",
        "There are 10 rounds in each game.\n",
        "```\n",
        "1 - Rock\n",
        "2 - Paper\n",
        "3 - Scissors\n",
        "```"
      ],
      "metadata": {
        "id": "nKw5useY90aA"
      }
    },
    {
      "cell_type": "code",
      "source": [
        "library(glue)\n",
        "\n",
        "play_game <- function() {\n",
        "  games <- 10\n",
        "  player_a_point <- 0\n",
        "  player_b_point <- 0\n",
        "\n",
        "  while (games > 0) {\n",
        "    print(glue(\"Round {11-games} starts!\"))\n",
        "    print(\"1 - Rock\")\n",
        "    print(\"2 - Paper\")\n",
        "    print(\"3 - Scissors\")\n",
        "    player_a <- sample(1:3, 1)\n",
        "\n",
        "    flush.console()\n",
        "    player_b <- as.numeric(readline(\"Enter your choice: \"))\n",
        "    if (!(player_b %in% c(1, 2, 3))) {\n",
        "      print(\"Please enter a valid choice.\")\n",
        "      next\n",
        "    }\n",
        "\n",
        "    if ((player_b + 1)%%3 == player_a-1 ) { # win\n",
        "      player_b_point <- player_b_point + 1\n",
        "      print(\"You crushed it!\")\n",
        "    } else if (player_b == player_a) { # tie\n",
        "      print(\"Neck and neck!\")\n",
        "    } else { # loss\n",
        "      player_a_point <- player_a_point + 1\n",
        "      print(\"Tough luck!\")\n",
        "    }\n",
        "    games <- games-1\n",
        "  }\n",
        "\n",
        "  if (player_b_point > player_a_point) {\n",
        "    print(\"You're the champion!\")\n",
        "  }\n",
        "  else if (player_b_point == player_a_point) {\n",
        "    print(\"It's a tie game!\")\n",
        "  } else {\n",
        "    print(\"Computer wins the match!\")\n",
        "  }\n",
        "}"
      ],
      "metadata": {
        "id": "W1AGfb9cNo7h"
      },
      "execution_count": null,
      "outputs": []
    },
    {
      "cell_type": "code",
      "source": [
        "play_game()"
      ],
      "metadata": {
        "colab": {
          "base_uri": "https://localhost:8080/"
        },
        "id": "EMGrwXTONtTt",
        "outputId": "068f8ff0-f02b-4c70-df60-c70905188b16"
      },
      "execution_count": null,
      "outputs": [
        {
          "output_type": "stream",
          "name": "stdout",
          "text": [
            "Round 1 starts!\n",
            "[1] \"1 - Rock\"\n",
            "[1] \"2 - Paper\"\n",
            "[1] \"3 - Scissors\"\n",
            "Enter your choice: 1\n",
            "[1] \"Neck and neck!\"\n",
            "Round 2 starts!\n",
            "[1] \"1 - Rock\"\n",
            "[1] \"2 - Paper\"\n",
            "[1] \"3 - Scissors\"\n",
            "Enter your choice: 3\n",
            "[1] \"You crushed it!\"\n",
            "Round 3 starts!\n",
            "[1] \"1 - Rock\"\n",
            "[1] \"2 - Paper\"\n",
            "[1] \"3 - Scissors\"\n",
            "Enter your choice: 2\n",
            "[1] \"Neck and neck!\"\n",
            "Round 4 starts!\n",
            "[1] \"1 - Rock\"\n",
            "[1] \"2 - Paper\"\n",
            "[1] \"3 - Scissors\"\n",
            "Enter your choice: 3\n",
            "[1] \"Neck and neck!\"\n",
            "Round 5 starts!\n",
            "[1] \"1 - Rock\"\n",
            "[1] \"2 - Paper\"\n",
            "[1] \"3 - Scissors\"\n",
            "Enter your choice: 1\n",
            "[1] \"Neck and neck!\"\n",
            "Round 6 starts!\n",
            "[1] \"1 - Rock\"\n",
            "[1] \"2 - Paper\"\n",
            "[1] \"3 - Scissors\"\n",
            "Enter your choice: 1\n",
            "[1] \"You crushed it!\"\n",
            "Round 7 starts!\n",
            "[1] \"1 - Rock\"\n",
            "[1] \"2 - Paper\"\n",
            "[1] \"3 - Scissors\"\n",
            "Enter your choice: 2\n",
            "[1] \"Tough luck!\"\n",
            "Round 8 starts!\n",
            "[1] \"1 - Rock\"\n",
            "[1] \"2 - Paper\"\n",
            "[1] \"3 - Scissors\"\n",
            "Enter your choice: 3\n",
            "[1] \"Tough luck!\"\n",
            "Round 9 starts!\n",
            "[1] \"1 - Rock\"\n",
            "[1] \"2 - Paper\"\n",
            "[1] \"3 - Scissors\"\n",
            "Enter your choice: 3\n",
            "[1] \"Neck and neck!\"\n",
            "Round 10 starts!\n",
            "[1] \"1 - Rock\"\n",
            "[1] \"2 - Paper\"\n",
            "[1] \"3 - Scissors\"\n",
            "Enter your choice: 1\n",
            "[1] \"You crushed it!\"\n",
            "[1] \"You're the champion!\"\n"
          ]
        }
      ]
    },
    {
      "cell_type": "markdown",
      "source": [
        "# Create restaurant.db\n",
        "\n",
        "[ER Diagram](https://dbdiagram.io/d/restaurant_ER_diagram-667a72ca9939893dae2e2da4)"
      ],
      "metadata": {
        "id": "UbjMTpYP-ywO"
      }
    },
    {
      "cell_type": "code",
      "source": [
        "install.packages(\"RSQLite\")\n",
        "library(RSQLite)\n",
        "library(tibble)\n",
        "\n",
        "options(pillar.sigfig = 6)\n",
        "options(digits = 6)\n",
        "\n",
        "menus <- tibble(\n",
        "  menu_id = 1:20,\n",
        "  name = c('Margherita Pizza', 'Caesar Salad', 'Chocolate Lava Cake', 'Grilled Salmon', 'Caprese Salad', 'Tiramisu', 'Beef Burger', 'Spinach Artichoke Dip', 'Cheesecake', 'Pasta Carbonara', 'Bruschetta', 'Key Lime Pie', 'Chicken Alfredo', 'Mozzarella Sticks', 'Apple Pie', 'Fish Tacos', 'Garlic Bread', 'Banana Split', 'Vegetable Stir-Fry', 'Calamari'),\n",
        "  category = c('Main Course', 'Appetizer', 'Dessert', 'Main Course', 'Appetizer', 'Dessert', 'Main Course', 'Appetizer', 'Dessert', 'Main Course', 'Appetizer', 'Dessert', 'Main Course', 'Appetizer', 'Dessert', 'Main Course', 'Appetizer', 'Dessert', 'Main Course', 'Appetizer'),\n",
        "  price = c(12.99, 8.49, 6.99, 18.99, 9.99, 7.49, 14.99, 10.49, 8.99, 16.99, 7.99, 6.49, 15.99, 9.49, 7.99, 13.99, 5.99, 9.99, 12.99, 11.99)\n",
        ")\n",
        "\n",
        "nutrients <- tibble(\n",
        "  nutrient_id = 1:3,\n",
        "  nutrient_name = c(\"Protein\", \"Carbohydrates\", \"Fat\")\n",
        ")\n",
        "\n",
        "menu_nutrients <- tibble(\n",
        "  menu_id = c(1, 1, 1, 2, 2, 2, 3, 3, 3, 4, 4, 4, 5, 5, 5, 6, 6, 6, 7, 7, 7, 8, 8, 8, 9, 9, 9, 10, 10, 10, 11, 11, 11, 12, 12, 12, 13, 13, 13, 14, 14, 14, 15, 15, 15, 16, 16, 16, 17, 17, 17, 18, 18, 18, 19, 19, 19, 20, 20, 20),\n",
        "  nutrient_id = c(1, 2, 3, 1, 2, 3, 1, 2, 3, 1, 2, 3, 1, 2, 3, 1, 2, 3, 1, 2, 3, 1, 2, 3, 1, 2, 3, 1, 2, 3, 1, 2, 3, 1, 2, 3, 1, 2, 3, 1, 2, 3, 1, 2, 3, 1, 2, 3, 1, 2, 3, 1, 2, 3, 1, 2, 3, 1, 2, 3),\n",
        "  amount = c(12.5, 30.0, 8.2, 4.8, 15.5, 5.7, 3.2, 25.0, 10.1, 20.0, 5.0, 15.5, 7.0, 12.0, 5.8, 4.5, 30.0, 9.3, 25.0, 35.0, 18.0, 3.5, 20.0, 15.2, 5.0, 25.0, 12.0, 15.0, 40.0, 10.5, 2.0, 15.0, 4.0, 3.0, 20.0, 8.0, 18.0, 30.0, 12.5, 8.0, 15.0, 10.0, 3.5, 30.0, 8.0, 10.0, 20.0, 5.5, 4.0, 10.0, 3.5, 3.0, 25.0, 10.0, 6.5, 20.0, 5.0, 15.0, 25.0, 10.0)\n",
        "\n",
        ")\n",
        "\n",
        "customers <- tibble(\n",
        "  customer_id = 1:8,\n",
        "  first_name = c(\"John\", \"Jane\", \"Michael\", \"Emily\", \"Daniel\", \"Sarah\", \"David\", \"Jessica\"),\n",
        "  last_name = c(\"Doe\", \"Smith\", \"Johnson\", \"Williams\", \"Brown\", \"Jones\", \"Garcia\", \"Martinez\"),\n",
        "  email = c(\"john.doe@example.com\", \"jane.smith@example.com\", \"michael.johnson@example.com\",\n",
        "             \"emily.williams@example.com\", \"daniel.brown@example.com\", \"sarah.jones@example.com\",\n",
        "             \"david.garcia@example.com\", \"jessica.martinez@example.com\")\n",
        ")\n",
        "\n",
        "transaction_details <- tibble(\n",
        "  transaction_id = c(1, 1, 2, 2, 3, 3, 4, 4, 5, 5, 6, 6, 7, 7, 8, 8, 9, 9, 10, 10),\n",
        "  menu_id = c(2, 3, 5, 7, 1, 4, 6, 9, 10, 11, 3, 5, 8, 9, 2, 4, 7, 10, 1, 6),\n",
        "  amount = c(1, 2, 1, 2, 1, 1, 2, 1, 2, 1, 2, 1, 2, 1, 1, 1, 2, 1, 2, 1)\n",
        ")\n",
        "\n",
        "transactions <- tibble(\n",
        "  transaction_id = 1:10,\n",
        "  customer_id = c(1, 2, 3, 4, 5, 6, 7, 8, 1, 2),\n",
        "  transaction_datetime = c(\"2023-01-01 10:30:00\", \"2023-01-02 11:15:00\", \"2023-01-03 12:00:00\",\n",
        "                 \"2023-01-04 13:45:00\", \"2023-01-05 14:20:00\", \"2023-01-06 15:00:00\",\n",
        "                 \"2023-01-07 16:30:00\", \"2023-01-08 17:10:00\", \"2023-01-09 18:00:00\",\n",
        "                 \"2023-01-10 19:45:00\")\n",
        ")\n",
        "\n",
        "transactions$transaction_datetime <- as.POSIXct(transactions$transaction_datetime, format = \"%Y-%m-%d %H:%M:%S\")\n",
        "\n",
        "conn <- dbConnect(RSQLite::SQLite(), \"restaurant.db\")\n",
        "\n",
        "dbWriteTable(conn, \"menus\", menus)\n",
        "dbWriteTable(conn, \"nutrients\", nutrients)\n",
        "dbWriteTable(conn, \"menu_nutrients\", menu_nutrients)\n",
        "dbWriteTable(conn, \"customers\", customers)\n",
        "dbWriteTable(conn, \"transaction_details\", transaction_details)\n",
        "dbWriteTable(conn, \"transactions\", transactions)\n",
        "\n",
        "dbListTables(conn)\n",
        "\n",
        "dbDisconnect(conn)\n"
      ],
      "metadata": {
        "colab": {
          "base_uri": "https://localhost:8080/",
          "height": 139
        },
        "id": "H7b5w7lzNvPh",
        "outputId": "ac8aceff-cf86-49fa-b43c-2868fdcd29ac"
      },
      "execution_count": null,
      "outputs": [
        {
          "output_type": "stream",
          "name": "stderr",
          "text": [
            "Installing package into ‘/usr/local/lib/R/site-library’\n",
            "(as ‘lib’ is unspecified)\n",
            "\n",
            "also installing the dependency ‘plogr’\n",
            "\n",
            "\n"
          ]
        },
        {
          "output_type": "display_data",
          "data": {
            "text/html": [
              "<style>\n",
              ".list-inline {list-style: none; margin:0; padding: 0}\n",
              ".list-inline>li {display: inline-block}\n",
              ".list-inline>li:not(:last-child)::after {content: \"\\00b7\"; padding: 0 .5ex}\n",
              "</style>\n",
              "<ol class=list-inline><li>'customers'</li><li>'menu_nutrients'</li><li>'menus'</li><li>'nutrients'</li><li>'transaction_details'</li><li>'transactions'</li></ol>\n"
            ],
            "text/markdown": "1. 'customers'\n2. 'menu_nutrients'\n3. 'menus'\n4. 'nutrients'\n5. 'transaction_details'\n6. 'transactions'\n\n\n",
            "text/latex": "\\begin{enumerate*}\n\\item 'customers'\n\\item 'menu\\_nutrients'\n\\item 'menus'\n\\item 'nutrients'\n\\item 'transaction\\_details'\n\\item 'transactions'\n\\end{enumerate*}\n",
            "text/plain": [
              "[1] \"customers\"           \"menu_nutrients\"      \"menus\"              \n",
              "[4] \"nutrients\"           \"transaction_details\" \"transactions\"       "
            ]
          },
          "metadata": {}
        }
      ]
    }
  ]
}