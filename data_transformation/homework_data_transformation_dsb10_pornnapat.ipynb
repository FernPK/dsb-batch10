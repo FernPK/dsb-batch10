{
  "nbformat": 4,
  "nbformat_minor": 0,
  "metadata": {
    "colab": {
      "provenance": []
    },
    "kernelspec": {
      "name": "ir",
      "display_name": "R"
    },
    "language_info": {
      "name": "R"
    }
  },
  "cells": [
    {
      "cell_type": "code",
      "execution_count": 1,
      "metadata": {
        "colab": {
          "base_uri": "https://localhost:8080/"
        },
        "id": "zTUWn_zf5VTL",
        "outputId": "fb8630e5-78e6-4571-e101-c62e7d3a5637"
      },
      "outputs": [
        {
          "output_type": "stream",
          "name": "stderr",
          "text": [
            "Installing package into ‘/usr/local/lib/R/site-library’\n",
            "(as ‘lib’ is unspecified)\n",
            "\n",
            "── \u001b[1mAttaching core tidyverse packages\u001b[22m ──────────────────────── tidyverse 2.0.0 ──\n",
            "\u001b[32m✔\u001b[39m \u001b[34mdplyr    \u001b[39m 1.1.4     \u001b[32m✔\u001b[39m \u001b[34mreadr    \u001b[39m 2.1.5\n",
            "\u001b[32m✔\u001b[39m \u001b[34mforcats  \u001b[39m 1.0.0     \u001b[32m✔\u001b[39m \u001b[34mstringr  \u001b[39m 1.5.1\n",
            "\u001b[32m✔\u001b[39m \u001b[34mggplot2  \u001b[39m 3.5.1     \u001b[32m✔\u001b[39m \u001b[34mtibble   \u001b[39m 3.2.1\n",
            "\u001b[32m✔\u001b[39m \u001b[34mlubridate\u001b[39m 1.9.4     \u001b[32m✔\u001b[39m \u001b[34mtidyr    \u001b[39m 1.3.1\n",
            "\u001b[32m✔\u001b[39m \u001b[34mpurrr    \u001b[39m 1.0.4     \n",
            "── \u001b[1mConflicts\u001b[22m ────────────────────────────────────────── tidyverse_conflicts() ──\n",
            "\u001b[31m✖\u001b[39m \u001b[34mdplyr\u001b[39m::\u001b[32mfilter()\u001b[39m masks \u001b[34mstats\u001b[39m::filter()\n",
            "\u001b[31m✖\u001b[39m \u001b[34mdplyr\u001b[39m::\u001b[32mlag()\u001b[39m    masks \u001b[34mstats\u001b[39m::lag()\n",
            "\u001b[36mℹ\u001b[39m Use the conflicted package (\u001b[3m\u001b[34m<http://conflicted.r-lib.org/>\u001b[39m\u001b[23m) to force all conflicts to become errors\n"
          ]
        }
      ],
      "source": [
        "install.packages(\"nycflights13\")\n",
        "library(tidyverse)\n",
        "library(nycflights13)\n",
        "library(lubridate)"
      ]
    },
    {
      "cell_type": "code",
      "source": [
        "data(package = \"nycflights13\")"
      ],
      "metadata": {
        "id": "wKkfYn9xsl8B"
      },
      "execution_count": 4,
      "outputs": []
    },
    {
      "cell_type": "code",
      "source": [
        "glimpse(flights)"
      ],
      "metadata": {
        "colab": {
          "base_uri": "https://localhost:8080/"
        },
        "id": "ZGvTth7itINQ",
        "outputId": "9006531a-c302-40ad-83a5-47fc14e5e8e6"
      },
      "execution_count": 5,
      "outputs": [
        {
          "output_type": "stream",
          "name": "stdout",
          "text": [
            "Rows: 336,776\n",
            "Columns: 19\n",
            "$ year           \u001b[3m\u001b[90m<int>\u001b[39m\u001b[23m 2013, 2013, 2013, 2013, 2013, 2013, 2013, 2013, 2013, 2…\n",
            "$ month          \u001b[3m\u001b[90m<int>\u001b[39m\u001b[23m 1, 1, 1, 1, 1, 1, 1, 1, 1, 1, 1, 1, 1, 1, 1, 1, 1, 1, 1…\n",
            "$ day            \u001b[3m\u001b[90m<int>\u001b[39m\u001b[23m 1, 1, 1, 1, 1, 1, 1, 1, 1, 1, 1, 1, 1, 1, 1, 1, 1, 1, 1…\n",
            "$ dep_time       \u001b[3m\u001b[90m<int>\u001b[39m\u001b[23m 517, 533, 542, 544, 554, 554, 555, 557, 557, 558, 558, …\n",
            "$ sched_dep_time \u001b[3m\u001b[90m<int>\u001b[39m\u001b[23m 515, 529, 540, 545, 600, 558, 600, 600, 600, 600, 600, …\n",
            "$ dep_delay      \u001b[3m\u001b[90m<dbl>\u001b[39m\u001b[23m 2, 4, 2, -1, -6, -4, -5, -3, -3, -2, -2, -2, -2, -2, -1…\n",
            "$ arr_time       \u001b[3m\u001b[90m<int>\u001b[39m\u001b[23m 830, 850, 923, 1004, 812, 740, 913, 709, 838, 753, 849,…\n",
            "$ sched_arr_time \u001b[3m\u001b[90m<int>\u001b[39m\u001b[23m 819, 830, 850, 1022, 837, 728, 854, 723, 846, 745, 851,…\n",
            "$ arr_delay      \u001b[3m\u001b[90m<dbl>\u001b[39m\u001b[23m 11, 20, 33, -18, -25, 12, 19, -14, -8, 8, -2, -3, 7, -1…\n",
            "$ carrier        \u001b[3m\u001b[90m<chr>\u001b[39m\u001b[23m \"UA\", \"UA\", \"AA\", \"B6\", \"DL\", \"UA\", \"B6\", \"EV\", \"B6\", \"…\n",
            "$ flight         \u001b[3m\u001b[90m<int>\u001b[39m\u001b[23m 1545, 1714, 1141, 725, 461, 1696, 507, 5708, 79, 301, 4…\n",
            "$ tailnum        \u001b[3m\u001b[90m<chr>\u001b[39m\u001b[23m \"N14228\", \"N24211\", \"N619AA\", \"N804JB\", \"N668DN\", \"N394…\n",
            "$ origin         \u001b[3m\u001b[90m<chr>\u001b[39m\u001b[23m \"EWR\", \"LGA\", \"JFK\", \"JFK\", \"LGA\", \"EWR\", \"EWR\", \"LGA\",…\n",
            "$ dest           \u001b[3m\u001b[90m<chr>\u001b[39m\u001b[23m \"IAH\", \"IAH\", \"MIA\", \"BQN\", \"ATL\", \"ORD\", \"FLL\", \"IAD\",…\n",
            "$ air_time       \u001b[3m\u001b[90m<dbl>\u001b[39m\u001b[23m 227, 227, 160, 183, 116, 150, 158, 53, 140, 138, 149, 1…\n",
            "$ distance       \u001b[3m\u001b[90m<dbl>\u001b[39m\u001b[23m 1400, 1416, 1089, 1576, 762, 719, 1065, 229, 944, 733, …\n",
            "$ hour           \u001b[3m\u001b[90m<dbl>\u001b[39m\u001b[23m 5, 5, 5, 5, 6, 5, 6, 6, 6, 6, 6, 6, 6, 6, 6, 5, 6, 6, 6…\n",
            "$ minute         \u001b[3m\u001b[90m<dbl>\u001b[39m\u001b[23m 15, 29, 40, 45, 0, 58, 0, 0, 0, 0, 0, 0, 0, 0, 0, 59, 0…\n",
            "$ time_hour      \u001b[3m\u001b[90m<dttm>\u001b[39m\u001b[23m 2013-01-01 05:00:00, 2013-01-01 05:00:00, 2013-01-01 0…\n"
          ]
        }
      ]
    },
    {
      "cell_type": "code",
      "source": [
        "colnames(flights)"
      ],
      "metadata": {
        "colab": {
          "base_uri": "https://localhost:8080/",
          "height": 52
        },
        "id": "2xWeYkx46k18",
        "outputId": "38d98e6f-f232-4009-ca99-045514b378e9"
      },
      "execution_count": null,
      "outputs": [
        {
          "output_type": "display_data",
          "data": {
            "text/html": [
              "<style>\n",
              ".list-inline {list-style: none; margin:0; padding: 0}\n",
              ".list-inline>li {display: inline-block}\n",
              ".list-inline>li:not(:last-child)::after {content: \"\\00b7\"; padding: 0 .5ex}\n",
              "</style>\n",
              "<ol class=list-inline><li>'year'</li><li>'month'</li><li>'day'</li><li>'dep_time'</li><li>'sched_dep_time'</li><li>'dep_delay'</li><li>'arr_time'</li><li>'sched_arr_time'</li><li>'arr_delay'</li><li>'carrier'</li><li>'flight'</li><li>'tailnum'</li><li>'origin'</li><li>'dest'</li><li>'air_time'</li><li>'distance'</li><li>'hour'</li><li>'minute'</li><li>'time_hour'</li></ol>\n"
            ],
            "text/markdown": "1. 'year'\n2. 'month'\n3. 'day'\n4. 'dep_time'\n5. 'sched_dep_time'\n6. 'dep_delay'\n7. 'arr_time'\n8. 'sched_arr_time'\n9. 'arr_delay'\n10. 'carrier'\n11. 'flight'\n12. 'tailnum'\n13. 'origin'\n14. 'dest'\n15. 'air_time'\n16. 'distance'\n17. 'hour'\n18. 'minute'\n19. 'time_hour'\n\n\n",
            "text/latex": "\\begin{enumerate*}\n\\item 'year'\n\\item 'month'\n\\item 'day'\n\\item 'dep\\_time'\n\\item 'sched\\_dep\\_time'\n\\item 'dep\\_delay'\n\\item 'arr\\_time'\n\\item 'sched\\_arr\\_time'\n\\item 'arr\\_delay'\n\\item 'carrier'\n\\item 'flight'\n\\item 'tailnum'\n\\item 'origin'\n\\item 'dest'\n\\item 'air\\_time'\n\\item 'distance'\n\\item 'hour'\n\\item 'minute'\n\\item 'time\\_hour'\n\\end{enumerate*}\n",
            "text/plain": [
              " [1] \"year\"           \"month\"          \"day\"            \"dep_time\"      \n",
              " [5] \"sched_dep_time\" \"dep_delay\"      \"arr_time\"       \"sched_arr_time\"\n",
              " [9] \"arr_delay\"      \"carrier\"        \"flight\"         \"tailnum\"       \n",
              "[13] \"origin\"         \"dest\"           \"air_time\"       \"distance\"      \n",
              "[17] \"hour\"           \"minute\"         \"time_hour\"     "
            ]
          },
          "metadata": {}
        }
      ]
    },
    {
      "cell_type": "markdown",
      "source": [
        "# 1. Which carries have the best on-time performance, and how does this vary by airport (origin)?\n",
        "\n",
        "necessary: carrier, dep_delay, arr_delay, origin\n",
        "\n",
        "*Within 15 minutes after its schedule is considered on-time"
      ],
      "metadata": {
        "id": "5PXS3tdK6NfP"
      }
    },
    {
      "cell_type": "code",
      "source": [
        "flights %>%\n",
        "  filter(!is.na(dep_delay), !is.na(arr_delay)) %>%\n",
        "  mutate(on_time = (dep_delay <= 15 & arr_delay <= 15)) %>%\n",
        "  group_by(carrier, origin) %>%\n",
        "  summarize(on_time_percentage = mean(on_time) * 100) %>%\n",
        "  arrange(desc(on_time_percentage))"
      ],
      "metadata": {
        "colab": {
          "base_uri": "https://localhost:8080/",
          "height": 1000
        },
        "id": "6C42PcoX6L9Z",
        "outputId": "209a693b-072e-4f33-a084-6f954a674955"
      },
      "execution_count": null,
      "outputs": [
        {
          "output_type": "stream",
          "name": "stderr",
          "text": [
            "\u001b[1m\u001b[22m`summarise()` has grouped output by 'carrier'. You can override using the\n",
            "`.groups` argument.\n"
          ]
        },
        {
          "output_type": "display_data",
          "data": {
            "text/html": [
              "<table class=\"dataframe\">\n",
              "<caption>A grouped_df: 35 × 3</caption>\n",
              "<thead>\n",
              "\t<tr><th scope=col>carrier</th><th scope=col>origin</th><th scope=col>on_time_percentage</th></tr>\n",
              "\t<tr><th scope=col>&lt;chr&gt;</th><th scope=col>&lt;chr&gt;</th><th scope=col>&lt;dbl&gt;</th></tr>\n",
              "</thead>\n",
              "<tbody>\n",
              "\t<tr><td>HA</td><td>JFK</td><td>84.50292</td></tr>\n",
              "\t<tr><td>9E</td><td>EWR</td><td>81.81056</td></tr>\n",
              "\t<tr><td>US</td><td>EWR</td><td>81.53028</td></tr>\n",
              "\t<tr><td>AS</td><td>EWR</td><td>81.10014</td></tr>\n",
              "\t<tr><td>US</td><td>LGA</td><td>80.02552</td></tr>\n",
              "\t<tr><td>US</td><td>JFK</td><td>79.45344</td></tr>\n",
              "\t<tr><td>AA</td><td>LGA</td><td>79.28457</td></tr>\n",
              "\t<tr><td>VX</td><td>EWR</td><td>78.67268</td></tr>\n",
              "\t<tr><td>DL</td><td>JFK</td><td>78.33066</td></tr>\n",
              "\t<tr><td>OO</td><td>LGA</td><td>78.26087</td></tr>\n",
              "\t<tr><td>AA</td><td>EWR</td><td>77.60928</td></tr>\n",
              "\t<tr><td>DL</td><td>LGA</td><td>77.05666</td></tr>\n",
              "\t<tr><td>DL</td><td>EWR</td><td>76.74040</td></tr>\n",
              "\t<tr><td>AA</td><td>JFK</td><td>75.76471</td></tr>\n",
              "\t<tr><td>9E</td><td>LGA</td><td>75.75244</td></tr>\n",
              "\t<tr><td>UA</td><td>JFK</td><td>75.45779</td></tr>\n",
              "\t<tr><td>VX</td><td>JFK</td><td>75.42088</td></tr>\n",
              "\t<tr><td>UA</td><td>LGA</td><td>74.49699</td></tr>\n",
              "\t<tr><td>B6</td><td>EWR</td><td>73.59394</td></tr>\n",
              "\t<tr><td>UA</td><td>EWR</td><td>71.60062</td></tr>\n",
              "\t<tr><td>MQ</td><td>LGA</td><td>70.92908</td></tr>\n",
              "\t<tr><td>B6</td><td>JFK</td><td>69.81472</td></tr>\n",
              "\t<tr><td>EV</td><td>JFK</td><td>69.75867</td></tr>\n",
              "\t<tr><td>MQ</td><td>JFK</td><td>69.56712</td></tr>\n",
              "\t<tr><td>EV</td><td>LGA</td><td>68.49848</td></tr>\n",
              "\t<tr><td>WN</td><td>LGA</td><td>68.48697</td></tr>\n",
              "\t<tr><td>WN</td><td>EWR</td><td>67.86658</td></tr>\n",
              "\t<tr><td>B6</td><td>LGA</td><td>67.63661</td></tr>\n",
              "\t<tr><td>9E</td><td>JFK</td><td>67.56658</td></tr>\n",
              "\t<tr><td>MQ</td><td>EWR</td><td>66.71435</td></tr>\n",
              "\t<tr><td>OO</td><td>EWR</td><td>66.66667</td></tr>\n",
              "\t<tr><td>YV</td><td>LGA</td><td>65.07353</td></tr>\n",
              "\t<tr><td>EV</td><td>EWR</td><td>63.95553</td></tr>\n",
              "\t<tr><td>FL</td><td>LGA</td><td>62.99213</td></tr>\n",
              "\t<tr><td>F9</td><td>LGA</td><td>58.00294</td></tr>\n",
              "</tbody>\n",
              "</table>\n"
            ],
            "text/markdown": "\nA grouped_df: 35 × 3\n\n| carrier &lt;chr&gt; | origin &lt;chr&gt; | on_time_percentage &lt;dbl&gt; |\n|---|---|---|\n| HA | JFK | 84.50292 |\n| 9E | EWR | 81.81056 |\n| US | EWR | 81.53028 |\n| AS | EWR | 81.10014 |\n| US | LGA | 80.02552 |\n| US | JFK | 79.45344 |\n| AA | LGA | 79.28457 |\n| VX | EWR | 78.67268 |\n| DL | JFK | 78.33066 |\n| OO | LGA | 78.26087 |\n| AA | EWR | 77.60928 |\n| DL | LGA | 77.05666 |\n| DL | EWR | 76.74040 |\n| AA | JFK | 75.76471 |\n| 9E | LGA | 75.75244 |\n| UA | JFK | 75.45779 |\n| VX | JFK | 75.42088 |\n| UA | LGA | 74.49699 |\n| B6 | EWR | 73.59394 |\n| UA | EWR | 71.60062 |\n| MQ | LGA | 70.92908 |\n| B6 | JFK | 69.81472 |\n| EV | JFK | 69.75867 |\n| MQ | JFK | 69.56712 |\n| EV | LGA | 68.49848 |\n| WN | LGA | 68.48697 |\n| WN | EWR | 67.86658 |\n| B6 | LGA | 67.63661 |\n| 9E | JFK | 67.56658 |\n| MQ | EWR | 66.71435 |\n| OO | EWR | 66.66667 |\n| YV | LGA | 65.07353 |\n| EV | EWR | 63.95553 |\n| FL | LGA | 62.99213 |\n| F9 | LGA | 58.00294 |\n\n",
            "text/latex": "A grouped\\_df: 35 × 3\n\\begin{tabular}{lll}\n carrier & origin & on\\_time\\_percentage\\\\\n <chr> & <chr> & <dbl>\\\\\n\\hline\n\t HA & JFK & 84.50292\\\\\n\t 9E & EWR & 81.81056\\\\\n\t US & EWR & 81.53028\\\\\n\t AS & EWR & 81.10014\\\\\n\t US & LGA & 80.02552\\\\\n\t US & JFK & 79.45344\\\\\n\t AA & LGA & 79.28457\\\\\n\t VX & EWR & 78.67268\\\\\n\t DL & JFK & 78.33066\\\\\n\t OO & LGA & 78.26087\\\\\n\t AA & EWR & 77.60928\\\\\n\t DL & LGA & 77.05666\\\\\n\t DL & EWR & 76.74040\\\\\n\t AA & JFK & 75.76471\\\\\n\t 9E & LGA & 75.75244\\\\\n\t UA & JFK & 75.45779\\\\\n\t VX & JFK & 75.42088\\\\\n\t UA & LGA & 74.49699\\\\\n\t B6 & EWR & 73.59394\\\\\n\t UA & EWR & 71.60062\\\\\n\t MQ & LGA & 70.92908\\\\\n\t B6 & JFK & 69.81472\\\\\n\t EV & JFK & 69.75867\\\\\n\t MQ & JFK & 69.56712\\\\\n\t EV & LGA & 68.49848\\\\\n\t WN & LGA & 68.48697\\\\\n\t WN & EWR & 67.86658\\\\\n\t B6 & LGA & 67.63661\\\\\n\t 9E & JFK & 67.56658\\\\\n\t MQ & EWR & 66.71435\\\\\n\t OO & EWR & 66.66667\\\\\n\t YV & LGA & 65.07353\\\\\n\t EV & EWR & 63.95553\\\\\n\t FL & LGA & 62.99213\\\\\n\t F9 & LGA & 58.00294\\\\\n\\end{tabular}\n",
            "text/plain": [
              "   carrier origin on_time_percentage\n",
              "1  HA      JFK    84.50292          \n",
              "2  9E      EWR    81.81056          \n",
              "3  US      EWR    81.53028          \n",
              "4  AS      EWR    81.10014          \n",
              "5  US      LGA    80.02552          \n",
              "6  US      JFK    79.45344          \n",
              "7  AA      LGA    79.28457          \n",
              "8  VX      EWR    78.67268          \n",
              "9  DL      JFK    78.33066          \n",
              "10 OO      LGA    78.26087          \n",
              "11 AA      EWR    77.60928          \n",
              "12 DL      LGA    77.05666          \n",
              "13 DL      EWR    76.74040          \n",
              "14 AA      JFK    75.76471          \n",
              "15 9E      LGA    75.75244          \n",
              "16 UA      JFK    75.45779          \n",
              "17 VX      JFK    75.42088          \n",
              "18 UA      LGA    74.49699          \n",
              "19 B6      EWR    73.59394          \n",
              "20 UA      EWR    71.60062          \n",
              "21 MQ      LGA    70.92908          \n",
              "22 B6      JFK    69.81472          \n",
              "23 EV      JFK    69.75867          \n",
              "24 MQ      JFK    69.56712          \n",
              "25 EV      LGA    68.49848          \n",
              "26 WN      LGA    68.48697          \n",
              "27 WN      EWR    67.86658          \n",
              "28 B6      LGA    67.63661          \n",
              "29 9E      JFK    67.56658          \n",
              "30 MQ      EWR    66.71435          \n",
              "31 OO      EWR    66.66667          \n",
              "32 YV      LGA    65.07353          \n",
              "33 EV      EWR    63.95553          \n",
              "34 FL      LGA    62.99213          \n",
              "35 F9      LGA    58.00294          "
            ]
          },
          "metadata": {}
        }
      ]
    },
    {
      "cell_type": "markdown",
      "source": [
        "# 2. What is the distribution of flight distances, and how does this relate to flight delays?\n",
        "\n",
        "necessary: distance, dep_delay, arr_delay"
      ],
      "metadata": {
        "id": "YJa-N-E66t0z"
      }
    },
    {
      "cell_type": "code",
      "source": [
        "summary(flights$distance)"
      ],
      "metadata": {
        "colab": {
          "base_uri": "https://localhost:8080/",
          "height": 52
        },
        "id": "5lMM9DPJ6zvY",
        "outputId": "deb6e6b9-1db4-4488-cce9-60cf2d27f0c8"
      },
      "execution_count": null,
      "outputs": [
        {
          "output_type": "display_data",
          "data": {
            "text/plain": [
              "   Min. 1st Qu.  Median    Mean 3rd Qu.    Max. \n",
              "     17     502     872    1040    1389    4983 "
            ]
          },
          "metadata": {}
        }
      ]
    },
    {
      "cell_type": "code",
      "source": [
        "hist(flights$distance, breaks = 50)"
      ],
      "metadata": {
        "colab": {
          "base_uri": "https://localhost:8080/",
          "height": 437
        },
        "id": "jNYpglUc62Ax",
        "outputId": "480e91a2-3489-4dd8-89f4-f912bc5cb63c"
      },
      "execution_count": null,
      "outputs": [
        {
          "output_type": "display_data",
          "data": {
            "text/plain": [
              "Plot with title “Histogram of flights$distance”"
            ],
            "image/png": "[encoded data removed]"
          },
          "metadata": {
            "image/png": {
              "width": 420,
              "height": 420
            }
          }
        }
      ]
    },
    {
      "cell_type": "code",
      "source": [
        "flights %>%\n",
        "  mutate(distance_bin = cut(\n",
        "    distance,\n",
        "    breaks = seq(0, 5000, by = 500),\n",
        "    labels = c(\"1-500\", \"501-1000\", \"1001-1500\", \"1501-2000\", \"2001-2500\", \"2501-3000\", \"3001-3500\", \"3501-4000\", \"4001-4500\", \"4501-5000\"))) %>%\n",
        "  group_by(distance_bin) %>%\n",
        "  summarize(mean_dep_delay = mean(dep_delay, na.rm = TRUE),\n",
        "            mean_arr_delay = mean(arr_delay, na.rm = TRUE))"
      ],
      "metadata": {
        "colab": {
          "base_uri": "https://localhost:8080/",
          "height": 349
        },
        "id": "iY0dDEeI65UT",
        "outputId": "3fb8c950-1bdb-4da0-a11c-6e1997b22c59"
      },
      "execution_count": null,
      "outputs": [
        {
          "output_type": "display_data",
          "data": {
            "text/html": [
              "<table class=\"dataframe\">\n",
              "<caption>A tibble: 8 × 3</caption>\n",
              "<thead>\n",
              "\t<tr><th scope=col>distance_bin</th><th scope=col>mean_dep_delay</th><th scope=col>mean_arr_delay</th></tr>\n",
              "\t<tr><th scope=col>&lt;fct&gt;</th><th scope=col>&lt;dbl&gt;</th><th scope=col>&lt;dbl&gt;</th></tr>\n",
              "</thead>\n",
              "<tbody>\n",
              "\t<tr><td>1-500    </td><td>13.397499</td><td> 9.2594204</td></tr>\n",
              "\t<tr><td>501-1000 </td><td>13.605013</td><td> 9.1009649</td></tr>\n",
              "\t<tr><td>1001-1500</td><td>11.753673</td><td> 5.6152642</td></tr>\n",
              "\t<tr><td>1501-2000</td><td>12.409002</td><td> 5.1634893</td></tr>\n",
              "\t<tr><td>2001-2500</td><td>10.085324</td><td> 0.7548171</td></tr>\n",
              "\t<tr><td>2501-3000</td><td>12.928839</td><td> 2.8886602</td></tr>\n",
              "\t<tr><td>3001-3500</td><td>12.875000</td><td>-2.5000000</td></tr>\n",
              "\t<tr><td>4501-5000</td><td> 9.289362</td><td>-1.3651926</td></tr>\n",
              "</tbody>\n",
              "</table>\n"
            ],
            "text/markdown": "\nA tibble: 8 × 3\n\n| distance_bin &lt;fct&gt; | mean_dep_delay &lt;dbl&gt; | mean_arr_delay &lt;dbl&gt; |\n|---|---|---|\n| 1-500     | 13.397499 |  9.2594204 |\n| 501-1000  | 13.605013 |  9.1009649 |\n| 1001-1500 | 11.753673 |  5.6152642 |\n| 1501-2000 | 12.409002 |  5.1634893 |\n| 2001-2500 | 10.085324 |  0.7548171 |\n| 2501-3000 | 12.928839 |  2.8886602 |\n| 3001-3500 | 12.875000 | -2.5000000 |\n| 4501-5000 |  9.289362 | -1.3651926 |\n\n",
            "text/latex": "A tibble: 8 × 3\n\\begin{tabular}{lll}\n distance\\_bin & mean\\_dep\\_delay & mean\\_arr\\_delay\\\\\n <fct> & <dbl> & <dbl>\\\\\n\\hline\n\t 1-500     & 13.397499 &  9.2594204\\\\\n\t 501-1000  & 13.605013 &  9.1009649\\\\\n\t 1001-1500 & 11.753673 &  5.6152642\\\\\n\t 1501-2000 & 12.409002 &  5.1634893\\\\\n\t 2001-2500 & 10.085324 &  0.7548171\\\\\n\t 2501-3000 & 12.928839 &  2.8886602\\\\\n\t 3001-3500 & 12.875000 & -2.5000000\\\\\n\t 4501-5000 &  9.289362 & -1.3651926\\\\\n\\end{tabular}\n",
            "text/plain": [
              "  distance_bin mean_dep_delay mean_arr_delay\n",
              "1 1-500        13.397499       9.2594204    \n",
              "2 501-1000     13.605013       9.1009649    \n",
              "3 1001-1500    11.753673       5.6152642    \n",
              "4 1501-2000    12.409002       5.1634893    \n",
              "5 2001-2500    10.085324       0.7548171    \n",
              "6 2501-3000    12.928839       2.8886602    \n",
              "7 3001-3500    12.875000      -2.5000000    \n",
              "8 4501-5000     9.289362      -1.3651926    "
            ]
          },
          "metadata": {}
        }
      ]
    },
    {
      "cell_type": "markdown",
      "source": [
        "# 3. How do departure delays vary by time of day and day of week?\n",
        "\n",
        "necessary: year, month, day, sched_dep_time, dep_delay"
      ],
      "metadata": {
        "id": "nReOzs5T7MSn"
      }
    },
    {
      "cell_type": "code",
      "source": [
        "flights %>%\n",
        "  mutate(date = make_date(year, month, day),\n",
        "         day_of_week = wday(date, label = TRUE),\n",
        "         sched_dep_time_bin = cut(\n",
        "          sched_dep_time,\n",
        "          breaks = seq(0, 2400, by = 100),\n",
        "          labels = seq(0, 23))\n",
        "         ) %>%\n",
        "  group_by(day_of_week, sched_dep_time_bin) %>%\n",
        "  summarize(mean_dep_delay = mean(dep_delay, na.rm = TRUE))"
      ],
      "metadata": {
        "colab": {
          "base_uri": "https://localhost:8080/",
          "height": 1000
        },
        "id": "5mPdtkrF7V14",
        "outputId": "755534ff-3aa1-4c54-b5f9-39b93da5b782"
      },
      "execution_count": null,
      "outputs": [
        {
          "output_type": "stream",
          "name": "stderr",
          "text": [
            "\u001b[1m\u001b[22m`summarise()` has grouped output by 'day_of_week'. You can override using the\n",
            "`.groups` argument.\n"
          ]
        },
        {
          "output_type": "display_data",
          "data": {
            "text/html": [
              "<table class=\"dataframe\">\n",
              "<caption>A grouped_df: 141 × 3</caption>\n",
              "<thead>\n",
              "\t<tr><th scope=col>day_of_week</th><th scope=col>sched_dep_time_bin</th><th scope=col>mean_dep_delay</th></tr>\n",
              "\t<tr><th scope=col>&lt;ord&gt;</th><th scope=col>&lt;fct&gt;</th><th scope=col>&lt;dbl&gt;</th></tr>\n",
              "</thead>\n",
              "<tbody>\n",
              "\t<tr><td>Sun</td><td>4 </td><td>-1.7812500</td></tr>\n",
              "\t<tr><td>Sun</td><td>5 </td><td> 0.8854415</td></tr>\n",
              "\t<tr><td>Sun</td><td>6 </td><td> 1.8263525</td></tr>\n",
              "\t<tr><td>Sun</td><td>7 </td><td> 1.1397459</td></tr>\n",
              "\t<tr><td>Sun</td><td>8 </td><td> 2.6745830</td></tr>\n",
              "\t<tr><td>Sun</td><td>9 </td><td> 2.5930511</td></tr>\n",
              "\t<tr><td>Sun</td><td>10</td><td> 3.6266907</td></tr>\n",
              "\t<tr><td>Sun</td><td>11</td><td> 3.8380165</td></tr>\n",
              "\t<tr><td>Sun</td><td>12</td><td> 6.3654947</td></tr>\n",
              "\t<tr><td>Sun</td><td>13</td><td> 7.0892581</td></tr>\n",
              "\t<tr><td>Sun</td><td>14</td><td> 9.4127228</td></tr>\n",
              "\t<tr><td>Sun</td><td>15</td><td>14.1240896</td></tr>\n",
              "\t<tr><td>Sun</td><td>16</td><td>16.9663580</td></tr>\n",
              "\t<tr><td>Sun</td><td>17</td><td>21.0051082</td></tr>\n",
              "\t<tr><td>Sun</td><td>18</td><td>20.1184936</td></tr>\n",
              "\t<tr><td>Sun</td><td>19</td><td>26.0013093</td></tr>\n",
              "\t<tr><td>Sun</td><td>20</td><td>23.5811305</td></tr>\n",
              "\t<tr><td>Sun</td><td>21</td><td>26.2556732</td></tr>\n",
              "\t<tr><td>Sun</td><td>22</td><td>21.5902965</td></tr>\n",
              "\t<tr><td>Sun</td><td>23</td><td>13.4662162</td></tr>\n",
              "\t<tr><td>Mon</td><td>4 </td><td>-4.6470588</td></tr>\n",
              "\t<tr><td>Mon</td><td>5 </td><td> 2.2229055</td></tr>\n",
              "\t<tr><td>Mon</td><td>6 </td><td> 1.7489485</td></tr>\n",
              "\t<tr><td>Mon</td><td>7 </td><td> 2.5271556</td></tr>\n",
              "\t<tr><td>Mon</td><td>8 </td><td> 5.0062711</td></tr>\n",
              "\t<tr><td>Mon</td><td>9 </td><td> 5.5179543</td></tr>\n",
              "\t<tr><td>Mon</td><td>10</td><td> 8.0778098</td></tr>\n",
              "\t<tr><td>Mon</td><td>11</td><td> 7.9117305</td></tr>\n",
              "\t<tr><td>Mon</td><td>12</td><td>10.0047170</td></tr>\n",
              "\t<tr><td>Mon</td><td>13</td><td>14.1650099</td></tr>\n",
              "\t<tr><td>⋮</td><td>⋮</td><td>⋮</td></tr>\n",
              "\t<tr><td>Fri</td><td>15</td><td>18.263730</td></tr>\n",
              "\t<tr><td>Fri</td><td>16</td><td>21.067337</td></tr>\n",
              "\t<tr><td>Fri</td><td>17</td><td>25.650305</td></tr>\n",
              "\t<tr><td>Fri</td><td>18</td><td>22.714868</td></tr>\n",
              "\t<tr><td>Fri</td><td>19</td><td>29.879712</td></tr>\n",
              "\t<tr><td>Fri</td><td>20</td><td>27.054899</td></tr>\n",
              "\t<tr><td>Fri</td><td>21</td><td>31.382677</td></tr>\n",
              "\t<tr><td>Fri</td><td>22</td><td>17.245070</td></tr>\n",
              "\t<tr><td>Fri</td><td>23</td><td>14.545455</td></tr>\n",
              "\t<tr><td>Sat</td><td>1 </td><td>      NaN</td></tr>\n",
              "\t<tr><td>Sat</td><td>4 </td><td>-1.653061</td></tr>\n",
              "\t<tr><td>Sat</td><td>5 </td><td> 2.516129</td></tr>\n",
              "\t<tr><td>Sat</td><td>6 </td><td> 1.980156</td></tr>\n",
              "\t<tr><td>Sat</td><td>7 </td><td> 3.246654</td></tr>\n",
              "\t<tr><td>Sat</td><td>8 </td><td> 3.777387</td></tr>\n",
              "\t<tr><td>Sat</td><td>9 </td><td> 4.070343</td></tr>\n",
              "\t<tr><td>Sat</td><td>10</td><td> 4.938133</td></tr>\n",
              "\t<tr><td>Sat</td><td>11</td><td> 6.184484</td></tr>\n",
              "\t<tr><td>Sat</td><td>12</td><td> 6.921474</td></tr>\n",
              "\t<tr><td>Sat</td><td>13</td><td> 7.458907</td></tr>\n",
              "\t<tr><td>Sat</td><td>14</td><td> 9.153982</td></tr>\n",
              "\t<tr><td>Sat</td><td>15</td><td>11.369024</td></tr>\n",
              "\t<tr><td>Sat</td><td>16</td><td>11.922009</td></tr>\n",
              "\t<tr><td>Sat</td><td>17</td><td>10.261994</td></tr>\n",
              "\t<tr><td>Sat</td><td>18</td><td>10.861995</td></tr>\n",
              "\t<tr><td>Sat</td><td>19</td><td>15.329127</td></tr>\n",
              "\t<tr><td>Sat</td><td>20</td><td>12.160000</td></tr>\n",
              "\t<tr><td>Sat</td><td>21</td><td> 9.190657</td></tr>\n",
              "\t<tr><td>Sat</td><td>22</td><td> 8.250765</td></tr>\n",
              "\t<tr><td>Sat</td><td>23</td><td>12.871622</td></tr>\n",
              "</tbody>\n",
              "</table>\n"
            ],
            "text/markdown": "\nA grouped_df: 141 × 3\n\n| day_of_week &lt;ord&gt; | sched_dep_time_bin &lt;fct&gt; | mean_dep_delay &lt;dbl&gt; |\n|---|---|---|\n| Sun | 4  | -1.7812500 |\n| Sun | 5  |  0.8854415 |\n| Sun | 6  |  1.8263525 |\n| Sun | 7  |  1.1397459 |\n| Sun | 8  |  2.6745830 |\n| Sun | 9  |  2.5930511 |\n| Sun | 10 |  3.6266907 |\n| Sun | 11 |  3.8380165 |\n| Sun | 12 |  6.3654947 |\n| Sun | 13 |  7.0892581 |\n| Sun | 14 |  9.4127228 |\n| Sun | 15 | 14.1240896 |\n| Sun | 16 | 16.9663580 |\n| Sun | 17 | 21.0051082 |\n| Sun | 18 | 20.1184936 |\n| Sun | 19 | 26.0013093 |\n| Sun | 20 | 23.5811305 |\n| Sun | 21 | 26.2556732 |\n| Sun | 22 | 21.5902965 |\n| Sun | 23 | 13.4662162 |\n| Mon | 4  | -4.6470588 |\n| Mon | 5  |  2.2229055 |\n| Mon | 6  |  1.7489485 |\n| Mon | 7  |  2.5271556 |\n| Mon | 8  |  5.0062711 |\n| Mon | 9  |  5.5179543 |\n| Mon | 10 |  8.0778098 |\n| Mon | 11 |  7.9117305 |\n| Mon | 12 | 10.0047170 |\n| Mon | 13 | 14.1650099 |\n| ⋮ | ⋮ | ⋮ |\n| Fri | 15 | 18.263730 |\n| Fri | 16 | 21.067337 |\n| Fri | 17 | 25.650305 |\n| Fri | 18 | 22.714868 |\n| Fri | 19 | 29.879712 |\n| Fri | 20 | 27.054899 |\n| Fri | 21 | 31.382677 |\n| Fri | 22 | 17.245070 |\n| Fri | 23 | 14.545455 |\n| Sat | 1  |       NaN |\n| Sat | 4  | -1.653061 |\n| Sat | 5  |  2.516129 |\n| Sat | 6  |  1.980156 |\n| Sat | 7  |  3.246654 |\n| Sat | 8  |  3.777387 |\n| Sat | 9  |  4.070343 |\n| Sat | 10 |  4.938133 |\n| Sat | 11 |  6.184484 |\n| Sat | 12 |  6.921474 |\n| Sat | 13 |  7.458907 |\n| Sat | 14 |  9.153982 |\n| Sat | 15 | 11.369024 |\n| Sat | 16 | 11.922009 |\n| Sat | 17 | 10.261994 |\n| Sat | 18 | 10.861995 |\n| Sat | 19 | 15.329127 |\n| Sat | 20 | 12.160000 |\n| Sat | 21 |  9.190657 |\n| Sat | 22 |  8.250765 |\n| Sat | 23 | 12.871622 |\n\n",
            "text/latex": "A grouped\\_df: 141 × 3\n\\begin{tabular}{lll}\n day\\_of\\_week & sched\\_dep\\_time\\_bin & mean\\_dep\\_delay\\\\\n <ord> & <fct> & <dbl>\\\\\n\\hline\n\t Sun & 4  & -1.7812500\\\\\n\t Sun & 5  &  0.8854415\\\\\n\t Sun & 6  &  1.8263525\\\\\n\t Sun & 7  &  1.1397459\\\\\n\t Sun & 8  &  2.6745830\\\\\n\t Sun & 9  &  2.5930511\\\\\n\t Sun & 10 &  3.6266907\\\\\n\t Sun & 11 &  3.8380165\\\\\n\t Sun & 12 &  6.3654947\\\\\n\t Sun & 13 &  7.0892581\\\\\n\t Sun & 14 &  9.4127228\\\\\n\t Sun & 15 & 14.1240896\\\\\n\t Sun & 16 & 16.9663580\\\\\n\t Sun & 17 & 21.0051082\\\\\n\t Sun & 18 & 20.1184936\\\\\n\t Sun & 19 & 26.0013093\\\\\n\t Sun & 20 & 23.5811305\\\\\n\t Sun & 21 & 26.2556732\\\\\n\t Sun & 22 & 21.5902965\\\\\n\t Sun & 23 & 13.4662162\\\\\n\t Mon & 4  & -4.6470588\\\\\n\t Mon & 5  &  2.2229055\\\\\n\t Mon & 6  &  1.7489485\\\\\n\t Mon & 7  &  2.5271556\\\\\n\t Mon & 8  &  5.0062711\\\\\n\t Mon & 9  &  5.5179543\\\\\n\t Mon & 10 &  8.0778098\\\\\n\t Mon & 11 &  7.9117305\\\\\n\t Mon & 12 & 10.0047170\\\\\n\t Mon & 13 & 14.1650099\\\\\n\t ⋮ & ⋮ & ⋮\\\\\n\t Fri & 15 & 18.263730\\\\\n\t Fri & 16 & 21.067337\\\\\n\t Fri & 17 & 25.650305\\\\\n\t Fri & 18 & 22.714868\\\\\n\t Fri & 19 & 29.879712\\\\\n\t Fri & 20 & 27.054899\\\\\n\t Fri & 21 & 31.382677\\\\\n\t Fri & 22 & 17.245070\\\\\n\t Fri & 23 & 14.545455\\\\\n\t Sat & 1  &       NaN\\\\\n\t Sat & 4  & -1.653061\\\\\n\t Sat & 5  &  2.516129\\\\\n\t Sat & 6  &  1.980156\\\\\n\t Sat & 7  &  3.246654\\\\\n\t Sat & 8  &  3.777387\\\\\n\t Sat & 9  &  4.070343\\\\\n\t Sat & 10 &  4.938133\\\\\n\t Sat & 11 &  6.184484\\\\\n\t Sat & 12 &  6.921474\\\\\n\t Sat & 13 &  7.458907\\\\\n\t Sat & 14 &  9.153982\\\\\n\t Sat & 15 & 11.369024\\\\\n\t Sat & 16 & 11.922009\\\\\n\t Sat & 17 & 10.261994\\\\\n\t Sat & 18 & 10.861995\\\\\n\t Sat & 19 & 15.329127\\\\\n\t Sat & 20 & 12.160000\\\\\n\t Sat & 21 &  9.190657\\\\\n\t Sat & 22 &  8.250765\\\\\n\t Sat & 23 & 12.871622\\\\\n\\end{tabular}\n",
            "text/plain": [
              "    day_of_week sched_dep_time_bin mean_dep_delay\n",
              "1   Sun         4                  -1.7812500    \n",
              "2   Sun         5                   0.8854415    \n",
              "3   Sun         6                   1.8263525    \n",
              "4   Sun         7                   1.1397459    \n",
              "5   Sun         8                   2.6745830    \n",
              "6   Sun         9                   2.5930511    \n",
              "7   Sun         10                  3.6266907    \n",
              "8   Sun         11                  3.8380165    \n",
              "9   Sun         12                  6.3654947    \n",
              "10  Sun         13                  7.0892581    \n",
              "11  Sun         14                  9.4127228    \n",
              "12  Sun         15                 14.1240896    \n",
              "13  Sun         16                 16.9663580    \n",
              "14  Sun         17                 21.0051082    \n",
              "15  Sun         18                 20.1184936    \n",
              "16  Sun         19                 26.0013093    \n",
              "17  Sun         20                 23.5811305    \n",
              "18  Sun         21                 26.2556732    \n",
              "19  Sun         22                 21.5902965    \n",
              "20  Sun         23                 13.4662162    \n",
              "21  Mon         4                  -4.6470588    \n",
              "22  Mon         5                   2.2229055    \n",
              "23  Mon         6                   1.7489485    \n",
              "24  Mon         7                   2.5271556    \n",
              "25  Mon         8                   5.0062711    \n",
              "26  Mon         9                   5.5179543    \n",
              "27  Mon         10                  8.0778098    \n",
              "28  Mon         11                  7.9117305    \n",
              "29  Mon         12                 10.0047170    \n",
              "30  Mon         13                 14.1650099    \n",
              "⋮   ⋮           ⋮                  ⋮             \n",
              "112 Fri         15                 18.263730     \n",
              "113 Fri         16                 21.067337     \n",
              "114 Fri         17                 25.650305     \n",
              "115 Fri         18                 22.714868     \n",
              "116 Fri         19                 29.879712     \n",
              "117 Fri         20                 27.054899     \n",
              "118 Fri         21                 31.382677     \n",
              "119 Fri         22                 17.245070     \n",
              "120 Fri         23                 14.545455     \n",
              "121 Sat         1                        NaN     \n",
              "122 Sat         4                  -1.653061     \n",
              "123 Sat         5                   2.516129     \n",
              "124 Sat         6                   1.980156     \n",
              "125 Sat         7                   3.246654     \n",
              "126 Sat         8                   3.777387     \n",
              "127 Sat         9                   4.070343     \n",
              "128 Sat         10                  4.938133     \n",
              "129 Sat         11                  6.184484     \n",
              "130 Sat         12                  6.921474     \n",
              "131 Sat         13                  7.458907     \n",
              "132 Sat         14                  9.153982     \n",
              "133 Sat         15                 11.369024     \n",
              "134 Sat         16                 11.922009     \n",
              "135 Sat         17                 10.261994     \n",
              "136 Sat         18                 10.861995     \n",
              "137 Sat         19                 15.329127     \n",
              "138 Sat         20                 12.160000     \n",
              "139 Sat         21                  9.190657     \n",
              "140 Sat         22                  8.250765     \n",
              "141 Sat         23                 12.871622     "
            ]
          },
          "metadata": {}
        }
      ]
    },
    {
      "cell_type": "markdown",
      "source": [
        "# 4. Which destination are most popular from each New York airport, and how have these changed over time?\n",
        "\n",
        "necessary: dest, origin, month"
      ],
      "metadata": {
        "id": "XhMxMm8o7dtz"
      }
    },
    {
      "cell_type": "code",
      "source": [
        "max_dest_df <- flights %>%\n",
        "  group_by(origin, dest) %>%\n",
        "  summarize(count = n()) %>%\n",
        "  group_by(origin) %>%\n",
        "  filter(count == max(count))\n",
        "\n",
        "max_dest_df"
      ],
      "metadata": {
        "colab": {
          "base_uri": "https://localhost:8080/",
          "height": 227
        },
        "id": "hHG9Hc_g7aDn",
        "outputId": "90d91f0b-6063-4b74-c664-3250d10fb70a"
      },
      "execution_count": null,
      "outputs": [
        {
          "output_type": "stream",
          "name": "stderr",
          "text": [
            "\u001b[1m\u001b[22m`summarise()` has grouped output by 'origin'. You can override using the\n",
            "`.groups` argument.\n"
          ]
        },
        {
          "output_type": "display_data",
          "data": {
            "text/html": [
              "<table class=\"dataframe\">\n",
              "<caption>A grouped_df: 3 × 3</caption>\n",
              "<thead>\n",
              "\t<tr><th scope=col>origin</th><th scope=col>dest</th><th scope=col>count</th></tr>\n",
              "\t<tr><th scope=col>&lt;chr&gt;</th><th scope=col>&lt;chr&gt;</th><th scope=col>&lt;int&gt;</th></tr>\n",
              "</thead>\n",
              "<tbody>\n",
              "\t<tr><td>EWR</td><td>ORD</td><td> 6100</td></tr>\n",
              "\t<tr><td>JFK</td><td>LAX</td><td>11262</td></tr>\n",
              "\t<tr><td>LGA</td><td>ATL</td><td>10263</td></tr>\n",
              "</tbody>\n",
              "</table>\n"
            ],
            "text/markdown": "\nA grouped_df: 3 × 3\n\n| origin &lt;chr&gt; | dest &lt;chr&gt; | count &lt;int&gt; |\n|---|---|---|\n| EWR | ORD |  6100 |\n| JFK | LAX | 11262 |\n| LGA | ATL | 10263 |\n\n",
            "text/latex": "A grouped\\_df: 3 × 3\n\\begin{tabular}{lll}\n origin & dest & count\\\\\n <chr> & <chr> & <int>\\\\\n\\hline\n\t EWR & ORD &  6100\\\\\n\t JFK & LAX & 11262\\\\\n\t LGA & ATL & 10263\\\\\n\\end{tabular}\n",
            "text/plain": [
              "  origin dest count\n",
              "1 EWR    ORD   6100\n",
              "2 JFK    LAX  11262\n",
              "3 LGA    ATL  10263"
            ]
          },
          "metadata": {}
        }
      ]
    },
    {
      "cell_type": "code",
      "source": [
        "unique(flights$origin)"
      ],
      "metadata": {
        "colab": {
          "base_uri": "https://localhost:8080/",
          "height": 34
        },
        "id": "PElsg-PJ84l7",
        "outputId": "b2f474ac-008b-42b4-b63e-65cfd6536aa8"
      },
      "execution_count": null,
      "outputs": [
        {
          "output_type": "display_data",
          "data": {
            "text/html": [
              "<style>\n",
              ".list-inline {list-style: none; margin:0; padding: 0}\n",
              ".list-inline>li {display: inline-block}\n",
              ".list-inline>li:not(:last-child)::after {content: \"\\00b7\"; padding: 0 .5ex}\n",
              "</style>\n",
              "<ol class=list-inline><li>'EWR'</li><li>'LGA'</li><li>'JFK'</li></ol>\n"
            ],
            "text/markdown": "1. 'EWR'\n2. 'LGA'\n3. 'JFK'\n\n\n",
            "text/latex": "\\begin{enumerate*}\n\\item 'EWR'\n\\item 'LGA'\n\\item 'JFK'\n\\end{enumerate*}\n",
            "text/plain": [
              "[1] \"EWR\" \"LGA\" \"JFK\""
            ]
          },
          "metadata": {}
        }
      ]
    },
    {
      "cell_type": "code",
      "source": [
        "flights %>%\n",
        "  inner_join(max_dest_df, by = c(\"origin\", \"dest\")) %>%\n",
        "  group_by(origin, dest, month) %>%\n",
        "  summarize(flight_count = n())"
      ],
      "metadata": {
        "colab": {
          "base_uri": "https://localhost:8080/",
          "height": 1000
        },
        "id": "bUsfZPq2_W_H",
        "outputId": "c85c423e-9163-4784-9334-2caa1380228b"
      },
      "execution_count": null,
      "outputs": [
        {
          "output_type": "stream",
          "name": "stderr",
          "text": [
            "\u001b[1m\u001b[22m`summarise()` has grouped output by 'origin', 'dest'. You can override using\n",
            "the `.groups` argument.\n"
          ]
        },
        {
          "output_type": "display_data",
          "data": {
            "text/html": [
              "<table class=\"dataframe\">\n",
              "<caption>A grouped_df: 36 × 4</caption>\n",
              "<thead>\n",
              "\t<tr><th scope=col>origin</th><th scope=col>dest</th><th scope=col>month</th><th scope=col>flight_count</th></tr>\n",
              "\t<tr><th scope=col>&lt;chr&gt;</th><th scope=col>&lt;chr&gt;</th><th scope=col>&lt;int&gt;</th><th scope=col>&lt;int&gt;</th></tr>\n",
              "</thead>\n",
              "<tbody>\n",
              "\t<tr><td>EWR</td><td>ORD</td><td> 1</td><td>502</td></tr>\n",
              "\t<tr><td>EWR</td><td>ORD</td><td> 2</td><td>475</td></tr>\n",
              "\t<tr><td>EWR</td><td>ORD</td><td> 3</td><td>493</td></tr>\n",
              "\t<tr><td>EWR</td><td>ORD</td><td> 4</td><td>491</td></tr>\n",
              "\t<tr><td>EWR</td><td>ORD</td><td> 5</td><td>549</td></tr>\n",
              "\t<tr><td>EWR</td><td>ORD</td><td> 6</td><td>551</td></tr>\n",
              "\t<tr><td>EWR</td><td>ORD</td><td> 7</td><td>564</td></tr>\n",
              "\t<tr><td>EWR</td><td>ORD</td><td> 8</td><td>582</td></tr>\n",
              "\t<tr><td>EWR</td><td>ORD</td><td> 9</td><td>579</td></tr>\n",
              "\t<tr><td>EWR</td><td>ORD</td><td>10</td><td>515</td></tr>\n",
              "\t<tr><td>EWR</td><td>ORD</td><td>11</td><td>421</td></tr>\n",
              "\t<tr><td>EWR</td><td>ORD</td><td>12</td><td>378</td></tr>\n",
              "\t<tr><td>JFK</td><td>LAX</td><td> 1</td><td>937</td></tr>\n",
              "\t<tr><td>JFK</td><td>LAX</td><td> 2</td><td>834</td></tr>\n",
              "\t<tr><td>JFK</td><td>LAX</td><td> 3</td><td>960</td></tr>\n",
              "\t<tr><td>JFK</td><td>LAX</td><td> 4</td><td>935</td></tr>\n",
              "\t<tr><td>JFK</td><td>LAX</td><td> 5</td><td>960</td></tr>\n",
              "\t<tr><td>JFK</td><td>LAX</td><td> 6</td><td>928</td></tr>\n",
              "\t<tr><td>JFK</td><td>LAX</td><td> 7</td><td>985</td></tr>\n",
              "\t<tr><td>JFK</td><td>LAX</td><td> 8</td><td>979</td></tr>\n",
              "\t<tr><td>JFK</td><td>LAX</td><td> 9</td><td>925</td></tr>\n",
              "\t<tr><td>JFK</td><td>LAX</td><td>10</td><td>965</td></tr>\n",
              "\t<tr><td>JFK</td><td>LAX</td><td>11</td><td>907</td></tr>\n",
              "\t<tr><td>JFK</td><td>LAX</td><td>12</td><td>947</td></tr>\n",
              "\t<tr><td>LGA</td><td>ATL</td><td> 1</td><td>878</td></tr>\n",
              "\t<tr><td>LGA</td><td>ATL</td><td> 2</td><td>798</td></tr>\n",
              "\t<tr><td>LGA</td><td>ATL</td><td> 3</td><td>889</td></tr>\n",
              "\t<tr><td>LGA</td><td>ATL</td><td> 4</td><td>892</td></tr>\n",
              "\t<tr><td>LGA</td><td>ATL</td><td> 5</td><td>925</td></tr>\n",
              "\t<tr><td>LGA</td><td>ATL</td><td> 6</td><td>826</td></tr>\n",
              "\t<tr><td>LGA</td><td>ATL</td><td> 7</td><td>847</td></tr>\n",
              "\t<tr><td>LGA</td><td>ATL</td><td> 8</td><td>860</td></tr>\n",
              "\t<tr><td>LGA</td><td>ATL</td><td> 9</td><td>803</td></tr>\n",
              "\t<tr><td>LGA</td><td>ATL</td><td>10</td><td>853</td></tr>\n",
              "\t<tr><td>LGA</td><td>ATL</td><td>11</td><td>830</td></tr>\n",
              "\t<tr><td>LGA</td><td>ATL</td><td>12</td><td>862</td></tr>\n",
              "</tbody>\n",
              "</table>\n"
            ],
            "text/markdown": "\nA grouped_df: 36 × 4\n\n| origin &lt;chr&gt; | dest &lt;chr&gt; | month &lt;int&gt; | flight_count &lt;int&gt; |\n|---|---|---|---|\n| EWR | ORD |  1 | 502 |\n| EWR | ORD |  2 | 475 |\n| EWR | ORD |  3 | 493 |\n| EWR | ORD |  4 | 491 |\n| EWR | ORD |  5 | 549 |\n| EWR | ORD |  6 | 551 |\n| EWR | ORD |  7 | 564 |\n| EWR | ORD |  8 | 582 |\n| EWR | ORD |  9 | 579 |\n| EWR | ORD | 10 | 515 |\n| EWR | ORD | 11 | 421 |\n| EWR | ORD | 12 | 378 |\n| JFK | LAX |  1 | 937 |\n| JFK | LAX |  2 | 834 |\n| JFK | LAX |  3 | 960 |\n| JFK | LAX |  4 | 935 |\n| JFK | LAX |  5 | 960 |\n| JFK | LAX |  6 | 928 |\n| JFK | LAX |  7 | 985 |\n| JFK | LAX |  8 | 979 |\n| JFK | LAX |  9 | 925 |\n| JFK | LAX | 10 | 965 |\n| JFK | LAX | 11 | 907 |\n| JFK | LAX | 12 | 947 |\n| LGA | ATL |  1 | 878 |\n| LGA | ATL |  2 | 798 |\n| LGA | ATL |  3 | 889 |\n| LGA | ATL |  4 | 892 |\n| LGA | ATL |  5 | 925 |\n| LGA | ATL |  6 | 826 |\n| LGA | ATL |  7 | 847 |\n| LGA | ATL |  8 | 860 |\n| LGA | ATL |  9 | 803 |\n| LGA | ATL | 10 | 853 |\n| LGA | ATL | 11 | 830 |\n| LGA | ATL | 12 | 862 |\n\n",
            "text/latex": "A grouped\\_df: 36 × 4\n\\begin{tabular}{llll}\n origin & dest & month & flight\\_count\\\\\n <chr> & <chr> & <int> & <int>\\\\\n\\hline\n\t EWR & ORD &  1 & 502\\\\\n\t EWR & ORD &  2 & 475\\\\\n\t EWR & ORD &  3 & 493\\\\\n\t EWR & ORD &  4 & 491\\\\\n\t EWR & ORD &  5 & 549\\\\\n\t EWR & ORD &  6 & 551\\\\\n\t EWR & ORD &  7 & 564\\\\\n\t EWR & ORD &  8 & 582\\\\\n\t EWR & ORD &  9 & 579\\\\\n\t EWR & ORD & 10 & 515\\\\\n\t EWR & ORD & 11 & 421\\\\\n\t EWR & ORD & 12 & 378\\\\\n\t JFK & LAX &  1 & 937\\\\\n\t JFK & LAX &  2 & 834\\\\\n\t JFK & LAX &  3 & 960\\\\\n\t JFK & LAX &  4 & 935\\\\\n\t JFK & LAX &  5 & 960\\\\\n\t JFK & LAX &  6 & 928\\\\\n\t JFK & LAX &  7 & 985\\\\\n\t JFK & LAX &  8 & 979\\\\\n\t JFK & LAX &  9 & 925\\\\\n\t JFK & LAX & 10 & 965\\\\\n\t JFK & LAX & 11 & 907\\\\\n\t JFK & LAX & 12 & 947\\\\\n\t LGA & ATL &  1 & 878\\\\\n\t LGA & ATL &  2 & 798\\\\\n\t LGA & ATL &  3 & 889\\\\\n\t LGA & ATL &  4 & 892\\\\\n\t LGA & ATL &  5 & 925\\\\\n\t LGA & ATL &  6 & 826\\\\\n\t LGA & ATL &  7 & 847\\\\\n\t LGA & ATL &  8 & 860\\\\\n\t LGA & ATL &  9 & 803\\\\\n\t LGA & ATL & 10 & 853\\\\\n\t LGA & ATL & 11 & 830\\\\\n\t LGA & ATL & 12 & 862\\\\\n\\end{tabular}\n",
            "text/plain": [
              "   origin dest month flight_count\n",
              "1  EWR    ORD   1    502         \n",
              "2  EWR    ORD   2    475         \n",
              "3  EWR    ORD   3    493         \n",
              "4  EWR    ORD   4    491         \n",
              "5  EWR    ORD   5    549         \n",
              "6  EWR    ORD   6    551         \n",
              "7  EWR    ORD   7    564         \n",
              "8  EWR    ORD   8    582         \n",
              "9  EWR    ORD   9    579         \n",
              "10 EWR    ORD  10    515         \n",
              "11 EWR    ORD  11    421         \n",
              "12 EWR    ORD  12    378         \n",
              "13 JFK    LAX   1    937         \n",
              "14 JFK    LAX   2    834         \n",
              "15 JFK    LAX   3    960         \n",
              "16 JFK    LAX   4    935         \n",
              "17 JFK    LAX   5    960         \n",
              "18 JFK    LAX   6    928         \n",
              "19 JFK    LAX   7    985         \n",
              "20 JFK    LAX   8    979         \n",
              "21 JFK    LAX   9    925         \n",
              "22 JFK    LAX  10    965         \n",
              "23 JFK    LAX  11    907         \n",
              "24 JFK    LAX  12    947         \n",
              "25 LGA    ATL   1    878         \n",
              "26 LGA    ATL   2    798         \n",
              "27 LGA    ATL   3    889         \n",
              "28 LGA    ATL   4    892         \n",
              "29 LGA    ATL   5    925         \n",
              "30 LGA    ATL   6    826         \n",
              "31 LGA    ATL   7    847         \n",
              "32 LGA    ATL   8    860         \n",
              "33 LGA    ATL   9    803         \n",
              "34 LGA    ATL  10    853         \n",
              "35 LGA    ATL  11    830         \n",
              "36 LGA    ATL  12    862         "
            ]
          },
          "metadata": {}
        }
      ]
    },
    {
      "cell_type": "markdown",
      "source": [
        "# 5. What is the relationship between air time and distance for different carriers?\n",
        "\n",
        "necessary: air_time, distance, carrier"
      ],
      "metadata": {
        "id": "0hl7OpqE7siq"
      }
    },
    {
      "cell_type": "code",
      "source": [
        "flights %>%\n",
        "  group_by(carrier) %>%\n",
        "  summarize(mean_air_time = mean(air_time, na.rm =TRUE),\n",
        "            mean_distance = mean(distance, na.rm = TRUE))"
      ],
      "metadata": {
        "colab": {
          "base_uri": "https://localhost:8080/",
          "height": 600
        },
        "id": "bDz4D9ty7wh_",
        "outputId": "34a1a9eb-2304-42e2-e166-fe5123a73669"
      },
      "execution_count": null,
      "outputs": [
        {
          "output_type": "display_data",
          "data": {
            "text/html": [
              "<table class=\"dataframe\">\n",
              "<caption>A tibble: 16 × 3</caption>\n",
              "<thead>\n",
              "\t<tr><th scope=col>carrier</th><th scope=col>mean_air_time</th><th scope=col>mean_distance</th></tr>\n",
              "\t<tr><th scope=col>&lt;chr&gt;</th><th scope=col>&lt;dbl&gt;</th><th scope=col>&lt;dbl&gt;</th></tr>\n",
              "</thead>\n",
              "<tbody>\n",
              "\t<tr><td>9E</td><td> 86.78160</td><td> 530.2358</td></tr>\n",
              "\t<tr><td>AA</td><td>188.82230</td><td>1340.2360</td></tr>\n",
              "\t<tr><td>AS</td><td>325.61777</td><td>2402.0000</td></tr>\n",
              "\t<tr><td>B6</td><td>151.17717</td><td>1068.6215</td></tr>\n",
              "\t<tr><td>DL</td><td>173.68880</td><td>1236.9012</td></tr>\n",
              "\t<tr><td>EV</td><td> 90.07619</td><td> 562.9917</td></tr>\n",
              "\t<tr><td>F9</td><td>229.59912</td><td>1620.0000</td></tr>\n",
              "\t<tr><td>FL</td><td>101.14394</td><td> 664.8294</td></tr>\n",
              "\t<tr><td>HA</td><td>623.08772</td><td>4983.0000</td></tr>\n",
              "\t<tr><td>MQ</td><td> 91.18025</td><td> 569.5327</td></tr>\n",
              "\t<tr><td>OO</td><td> 83.48276</td><td> 500.8125</td></tr>\n",
              "\t<tr><td>UA</td><td>211.79135</td><td>1529.1149</td></tr>\n",
              "\t<tr><td>US</td><td> 88.57380</td><td> 553.4563</td></tr>\n",
              "\t<tr><td>VX</td><td>337.00235</td><td>2499.4822</td></tr>\n",
              "\t<tr><td>WN</td><td>147.82481</td><td> 996.2691</td></tr>\n",
              "\t<tr><td>YV</td><td> 65.74081</td><td> 375.0333</td></tr>\n",
              "</tbody>\n",
              "</table>\n"
            ],
            "text/markdown": "\nA tibble: 16 × 3\n\n| carrier &lt;chr&gt; | mean_air_time &lt;dbl&gt; | mean_distance &lt;dbl&gt; |\n|---|---|---|\n| 9E |  86.78160 |  530.2358 |\n| AA | 188.82230 | 1340.2360 |\n| AS | 325.61777 | 2402.0000 |\n| B6 | 151.17717 | 1068.6215 |\n| DL | 173.68880 | 1236.9012 |\n| EV |  90.07619 |  562.9917 |\n| F9 | 229.59912 | 1620.0000 |\n| FL | 101.14394 |  664.8294 |\n| HA | 623.08772 | 4983.0000 |\n| MQ |  91.18025 |  569.5327 |\n| OO |  83.48276 |  500.8125 |\n| UA | 211.79135 | 1529.1149 |\n| US |  88.57380 |  553.4563 |\n| VX | 337.00235 | 2499.4822 |\n| WN | 147.82481 |  996.2691 |\n| YV |  65.74081 |  375.0333 |\n\n",
            "text/latex": "A tibble: 16 × 3\n\\begin{tabular}{lll}\n carrier & mean\\_air\\_time & mean\\_distance\\\\\n <chr> & <dbl> & <dbl>\\\\\n\\hline\n\t 9E &  86.78160 &  530.2358\\\\\n\t AA & 188.82230 & 1340.2360\\\\\n\t AS & 325.61777 & 2402.0000\\\\\n\t B6 & 151.17717 & 1068.6215\\\\\n\t DL & 173.68880 & 1236.9012\\\\\n\t EV &  90.07619 &  562.9917\\\\\n\t F9 & 229.59912 & 1620.0000\\\\\n\t FL & 101.14394 &  664.8294\\\\\n\t HA & 623.08772 & 4983.0000\\\\\n\t MQ &  91.18025 &  569.5327\\\\\n\t OO &  83.48276 &  500.8125\\\\\n\t UA & 211.79135 & 1529.1149\\\\\n\t US &  88.57380 &  553.4563\\\\\n\t VX & 337.00235 & 2499.4822\\\\\n\t WN & 147.82481 &  996.2691\\\\\n\t YV &  65.74081 &  375.0333\\\\\n\\end{tabular}\n",
            "text/plain": [
              "   carrier mean_air_time mean_distance\n",
              "1  9E       86.78160      530.2358    \n",
              "2  AA      188.82230     1340.2360    \n",
              "3  AS      325.61777     2402.0000    \n",
              "4  B6      151.17717     1068.6215    \n",
              "5  DL      173.68880     1236.9012    \n",
              "6  EV       90.07619      562.9917    \n",
              "7  F9      229.59912     1620.0000    \n",
              "8  FL      101.14394      664.8294    \n",
              "9  HA      623.08772     4983.0000    \n",
              "10 MQ       91.18025      569.5327    \n",
              "11 OO       83.48276      500.8125    \n",
              "12 UA      211.79135     1529.1149    \n",
              "13 US       88.57380      553.4563    \n",
              "14 VX      337.00235     2499.4822    \n",
              "15 WN      147.82481      996.2691    \n",
              "16 YV       65.74081      375.0333    "
            ]
          },
          "metadata": {}
        }
      ]
    }
  ]
}